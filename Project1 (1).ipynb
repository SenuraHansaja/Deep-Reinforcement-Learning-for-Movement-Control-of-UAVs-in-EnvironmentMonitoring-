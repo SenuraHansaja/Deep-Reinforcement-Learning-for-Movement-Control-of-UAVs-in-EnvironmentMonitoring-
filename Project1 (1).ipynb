{
 "cells": [
  {
   "cell_type": "code",
   "execution_count": 4,
   "id": "da613802",
   "metadata": {},
   "outputs": [],
   "source": [
    "import gym\n",
    "import numpy as np\n",
    "import random \n",
    "from gym import Env\n",
    "from gym.spaces import Discrete, Box\n",
    "import math"
   ]
  },
  {
   "cell_type": "code",
   "execution_count": 5,
   "id": "fb4bb003",
   "metadata": {},
   "outputs": [
    {
     "name": "stdout",
     "output_type": "stream",
     "text": [
      "[[ 0.  0.  0.  0.  0.  0.  0.  0.  0.  0.  0.  0.]\n",
      " [ 0.  0.  0.  0.  0.  0.  0.  0.  0.  0.  0.  0.]\n",
      " [ 0.  0.  0.  0.  0.  0.  0.  0.  0.  0.  0.  0.]\n",
      " [ 0.  0.  0.  0.  0.  0.  0.  0.  0.  0.  0.  0.]\n",
      " [ 0.  0.  0.  0.  0.  0.  0.  0.  0.  0.  0.  0.]\n",
      " [ 0.  0.  0.  0.  0.  0.  0.  0.  0.  0.  0.  0.]\n",
      " [ 0.  0.  0.  0.  0.  0.  0.  0.  0.  0.  0.  0.]\n",
      " [ 0.  0.  0.  0.  0.  0.  0. 10. 10. 10. 10. 10.]\n",
      " [ 0.  0.  0.  0.  0.  0.  0. 10. 10. 10. 10. 10.]\n",
      " [ 0.  0.  0.  0.  0.  0.  0. 10. 10. 10. 10. 10.]\n",
      " [ 0.  0.  0.  0.  0.  0.  0. 10. 10. 10. 10. 10.]\n",
      " [ 0.  0.  0.  0.  0.  0.  0. 10. 10. 10. 10. 10.]]\n"
     ]
    }
   ],
   "source": [
    "value_i = np.zeros((12,12))\n",
    "for i in range (7,12):\n",
    "    for j in range (7,12):\n",
    "        value_i[i][j] = 10\n",
    "print(value_i)"
   ]
  },
  {
   "cell_type": "code",
   "execution_count": 6,
   "id": "7d962144",
   "metadata": {},
   "outputs": [],
   "source": [
    "def value_pos(a,b):\n",
    "        x_grid = 0\n",
    "        y_grid = 0\n",
    "        #a is the x_position of the drone\n",
    "        #b is the y_position of the drone\n",
    "        if (a > 1100):\n",
    "            a = 1100\n",
    "        if (b > 1100):\n",
    "            b = 1100\n",
    "        while (x_grid < (a/100)):\n",
    "            x_grid += 1\n",
    "        while y_grid < (b/100):\n",
    "            y_grid += 1\n",
    "        # so now we get the grid postio of the drones in the env\n",
    "#         x_grid = x_grid -1\n",
    "#         y_grid = y_grid - 1\n",
    "        inter = value_i[x_grid][y_grid]\n",
    "        return inter\n",
    "    \n",
    "def dis_2_coor(x,y):\n",
    "        result = math.sqrt((x[0]-x[1])**2 + (y[0]-y[1])**2)\n",
    "        return result\n",
    "    \n",
    "# def transpose_func(arr):\n",
    "#     arr_t = np.column_stack((arr,arr))\n",
    "#     arr_t1,arr_t2 = np.hsplit(arr_t, 2)\n",
    "#     return arr_t1\n"
   ]
  },
  {
   "cell_type": "code",
   "execution_count": 7,
   "id": "a8a2ac34",
   "metadata": {},
   "outputs": [
    {
     "name": "stdout",
     "output_type": "stream",
     "text": [
      "[array([0., 1., 2., 3., 4., 5.]), array([6.]), array([7.]), array([], dtype=float64)]\n"
     ]
    },
    {
     "data": {
      "text/plain": [
       "[array([0., 1., 2., 3.]), array([4., 5., 6., 7.])]"
      ]
     },
     "execution_count": 7,
     "metadata": {},
     "output_type": "execute_result"
    }
   ],
   "source": [
    "x = np.arange(8.0)\n",
    "# print(np.split(x, [4,1,3]))\n",
    "a = np.split(x, [4])\n",
    "print(np.split(x, [6,7,8]))\n",
    "# print(np.array_split(x, 4))\n",
    "[x for x in a if x.size > 0]"
   ]
  },
  {
   "cell_type": "code",
   "execution_count": 8,
   "id": "c67f654a",
   "metadata": {},
   "outputs": [],
   "source": [
    "class Environment(Env):\n",
    "    CONSTANT_E_JOULES = 1\n",
    "    def __init__(self):\n",
    "        \n",
    "        self.min = 0\n",
    "        self.max = 1200\n",
    "        self.N = 26\n",
    "        self.sensing_range = 100\n",
    "        \n",
    "        self.action_space = Discrete(8)\n",
    "        self.observation_space = Box(0, 1200, shape=(52,), dtype=np.float32)\n",
    "        \n",
    "        x_coor = []\n",
    "        y_coor = []\n",
    "#         interest_value = []\n",
    "#         energy_consumption = []\n",
    "        for i in range(self.N):\n",
    "            x_coor.append(600)\n",
    "            y_coor.append(600)\n",
    "#             interest_value.append(value_pos(x_coor[i], y_coor[i]))\n",
    "#             energy_consumption.append(0)\n",
    "            \n",
    "#         sum_e_c = 0\n",
    "#         sum_iv = 0\n",
    "            \n",
    "#         for i in range(self.N):\n",
    "#             sum_e_c += energy_consumption[i]\n",
    "#             sum_iv += interest_value[i]\n",
    "            \n",
    "        self.state = np.hstack((x_coor, y_coor))\n",
    "       \n",
    "    \n",
    "    def step(self, action):\n",
    "        \n",
    "        a = np.split(self.state,[self.N])\n",
    "        a = [x for x in a if x.size > 0]\n",
    "        x, y = a\n",
    "                \n",
    "        add_angle = 2*math.pi/self.N\n",
    "        move_angle = np.zeros(self.N)\n",
    "        if (action == 0):\n",
    "            move_angle[0] = 0\n",
    "            x[0] += 50\n",
    "            for i in range(1,26):\n",
    "                move_angle[i] = move_angle[i-1] + add_angle\n",
    "                x[i] += 50*math.cos(move_angle[i]) \n",
    "                y[i] += 50*math.sin(move_angle[i])\n",
    "                \n",
    "        if (action == 1):\n",
    "            move_angle[0] = math.pi/4\n",
    "            x[0] += 50/math.sqrt(2)\n",
    "            y[0] += 50/math.sqrt(2)\n",
    "            for i in range(1,26):\n",
    "                move_angle[i] = move_angle[i-1] + add_angle\n",
    "                x[i] += 50*math.cos(move_angle[i]) \n",
    "                y[i] += 50*math.sin(move_angle[i])\n",
    "         \n",
    "        if (action == 2):\n",
    "            move_angle[0] = math.pi/2\n",
    "            y[0] += 50\n",
    "            for i in range(1,26):\n",
    "                move_angle[i] = move_angle[i-1] - add_angle\n",
    "                x[i] += 50*math.cos(move_angle[i]) \n",
    "                y[i] += 50*math.sin(move_angle[i])\n",
    "                \n",
    "        if (action == 3):\n",
    "            move_angle[0] = 3*math.pi/4\n",
    "            x[0] -= 50/math.sqrt(2)\n",
    "            y[0] += 50/math.sqrt(2) \n",
    "            for i in range(1,26):\n",
    "                move_angle[i] = move_angle[i-1] - add_angle\n",
    "                x[i] += 50*math.cos(move_angle[i]) \n",
    "                y[i] += 50*math.sin(move_angle[i])\n",
    "                \n",
    "        if (action == 4):\n",
    "            move_angle[0] = math.pi\n",
    "            x[0] -= 50/math.sqrt(2)\n",
    "            for i in range(1,26):\n",
    "                move_angle[i] = move_angle[i-1] - add_angle\n",
    "                x[i] += 50*math.cos(move_angle[i]) \n",
    "                y[i] += 50*math.sin(move_angle[i])\n",
    "                \n",
    "        if (action == 5):\n",
    "            move_angle[0] = 5*math.pi/4\n",
    "            x[0] -= 50/math.sqrt(2)\n",
    "            y[0] -= 50/math.sqrt(2)  \n",
    "            for i in range(1,26):\n",
    "                move_angle[i] = move_angle[i-1] - add_angle\n",
    "                x[i] += 50*math.cos(move_angle[i]) \n",
    "                y[i] += 50*math.sin(move_angle[i])\n",
    "                \n",
    "        if (action == 6):\n",
    "            move_angle[0] = 3*math.pi/2\n",
    "            y[0] -= 50\n",
    "            for i in range(1,26):\n",
    "                move_angle[i] = move_angle[i-1] - add_angle\n",
    "                x[i] += 50*math.cos(move_angle[i]) \n",
    "                y[i] += 50*math.sin(move_angle[i])\n",
    "                \n",
    "        if (action == 7):\n",
    "            move_angle[0] = 7*math.pi/4\n",
    "            x[0] += 50/math.sqrt(2)\n",
    "            y[0] -= 50/math.sqrt(2)  \n",
    "            for i in range(1,26):\n",
    "                move_angle[i] = move_angle[i-1] - add_angle\n",
    "                x[i] += 50*math.cos(move_angle[i]) \n",
    "                y[i] += 50*math.sin(move_angle[i])\n",
    "                \n",
    "        new_i_value = np.zeros(self.N)\n",
    "        \n",
    "        for i in range (self.N):\n",
    "            if (x[i] > self.max):\n",
    "                new_i_value[i] = value_pos(1200, y[i])\n",
    "            if (y[i] > self.max):\n",
    "                new_i_value[i] = value_pos(x[i], 1200)\n",
    "            if (x[i] < self.min):\n",
    "                new_i_value[i] = value_pos(0, y[i])\n",
    "            if (y[i] < self.min):\n",
    "                new_i_value[i] = value_pos(x[i], 0)\n",
    "                # set as max,min\n",
    "            else:\n",
    "                new_i_value[i] = value_pos(x[i],y[i])\n",
    "                \n",
    "        new_ec = np.zeros(self.N)\n",
    "        for i in range (self.N):\n",
    "            new_ec[i] =  50 * self.CONSTANT_E_JOULES\n",
    "            \n",
    "        sum_i_value = 0\n",
    "        sum_cov = 0\n",
    "        sum_ec = 0\n",
    "            \n",
    "        for index in range (self.N):\n",
    "            sum_i_value += new_i_value[index]\n",
    "        \n",
    "        for index in range (self.N):\n",
    "            sum_ec += new_ec[index]\n",
    "            \n",
    "        def dis_2_uav (D_array):\n",
    "            dis_between = []\n",
    "            temp_array = D_array\n",
    "            for i in range (self.N):\n",
    "                for j in range (self.N):\n",
    "                    dis_between.append(dis_2_coor(temp_array[i],D_array[j]))\n",
    "            \n",
    "            return dis_between\n",
    "        \n",
    "        coor_array = np.column_stack((x, y))\n",
    "        dis_array = dis_2_uav(coor_array)\n",
    "        # eleminate 0 value \n",
    "        dis_array = [i for i in dis_array if i != 0]\n",
    "        \n",
    "        d_threshold = math.sqrt(3) * self.sensing_range\n",
    "        for i in range(len(dis_array)):\n",
    "            dis_array[i] = max ((dis_array[i]-d_threshold),0)\n",
    "            \n",
    "#         print(dis_array)\n",
    "        \n",
    "        for i in range(len(dis_array)):\n",
    "            sum_cov += dis_array[i]\n",
    "            \n",
    "#         print(sum_cov)\n",
    "        reward =  sum_i_value + 0.001 * sum_cov - 0.001 * sum_ec\n",
    "        \n",
    "        \n",
    "        self.state = np.hstack((x, y))\n",
    "        \n",
    "        for i in range (self.N):\n",
    "            if (x[i] > self.max or y[i] > self.max or x[i] < self.min or y[i] < self.min):\n",
    "                done = True\n",
    "            else:\n",
    "                done = False\n",
    "        \n",
    "        info = {}\n",
    "#         print(self.state)\n",
    "            \n",
    "        return self.state, reward, done, info    \n",
    "        \n",
    "        \n",
    "    def reset(self):\n",
    "        x_coor = []\n",
    "        y_coor = []\n",
    "        \n",
    "        \n",
    "        for i in range(self.N):\n",
    "            x_coor.append(600)\n",
    "            y_coor.append(600)\n",
    "       \n",
    "        self.state = np.hstack((x_coor, y_coor))\n",
    "        return self.state\n",
    "    \n",
    "        \n",
    "    "
   ]
  },
  {
   "cell_type": "code",
   "execution_count": 9,
   "id": "5bbe56d7",
   "metadata": {},
   "outputs": [],
   "source": [
    "env = Environment()"
   ]
  },
  {
   "cell_type": "code",
   "execution_count": 10,
   "id": "ea6b4510",
   "metadata": {},
   "outputs": [
    {
     "name": "stdout",
     "output_type": "stream",
     "text": [
      "1\n"
     ]
    }
   ],
   "source": [
    "action = env.action_space.sample()\n",
    "print(action)"
   ]
  },
  {
   "cell_type": "code",
   "execution_count": 11,
   "id": "f7ea8997",
   "metadata": {},
   "outputs": [
    {
     "name": "stdout",
     "output_type": "stream",
     "text": [
      "Episode:1 Score:31321.413369211303\n",
      "Episode:2 Score:100481.98770665313\n",
      "Episode:3 Score:28595.77539723836\n",
      "Episode:4 Score:102397.8404300774\n",
      "Episode:5 Score:46633.29969276946\n",
      "Episode:6 Score:166242.3814927544\n",
      "Episode:7 Score:85080.62018280593\n",
      "Episode:8 Score:19872.425728070775\n",
      "Episode:9 Score:13913.055567763151\n",
      "Episode:10 Score:49269.88849048967\n"
     ]
    }
   ],
   "source": [
    "episodes = 10\n",
    "for episode in range(1, episodes+1):\n",
    "    state = env.reset()\n",
    "    done = False\n",
    "    score = 0 \n",
    "    \n",
    "    while not done:\n",
    "        action = env.action_space.sample()\n",
    "        n_state, reward, done, info = env.step(action)\n",
    "        score+=reward\n",
    "    \n",
    "    print('Episode:{} Score:{}'.format(episode, score))"
   ]
  },
  {
   "cell_type": "code",
   "execution_count": 12,
   "id": "364e295b",
   "metadata": {},
   "outputs": [],
   "source": [
    "from tensorflow.keras.models import Sequential\n",
    "from tensorflow.keras.layers import Dense, Flatten\n",
    "from tensorflow.keras.optimizers import Adam"
   ]
  },
  {
   "cell_type": "code",
   "execution_count": 13,
   "id": "e073ef74",
   "metadata": {},
   "outputs": [],
   "source": [
    "states = env.observation_space.shape\n",
    "actions = env.action_space.n"
   ]
  },
  {
   "cell_type": "code",
   "execution_count": 14,
   "id": "a58db2a0",
   "metadata": {},
   "outputs": [
    {
     "name": "stdout",
     "output_type": "stream",
     "text": [
      "8\n"
     ]
    },
    {
     "data": {
      "text/plain": [
       "(52,)"
      ]
     },
     "execution_count": 14,
     "metadata": {},
     "output_type": "execute_result"
    }
   ],
   "source": [
    "print(actions)\n",
    "states "
   ]
  },
  {
   "cell_type": "code",
   "execution_count": 18,
   "id": "aaabf98f",
   "metadata": {},
   "outputs": [],
   "source": [
    "def build_model(states, actions):\n",
    "    model = Sequential()    \n",
    "    model.add(Dense(24, activation='relu', input_shape=(1,52)))\n",
    "    model.add(Dense(24, activation='relu'))\n",
    "    model.add(Dense(8, activation='linear'))\n",
    "    model.add(Flatten())\n",
    "    return model"
   ]
  },
  {
   "cell_type": "code",
   "execution_count": 19,
   "id": "3849fb66",
   "metadata": {},
   "outputs": [],
   "source": [
    "model = build_model(states, actions)"
   ]
  },
  {
   "cell_type": "code",
   "execution_count": 20,
   "id": "2d83dc9e",
   "metadata": {},
   "outputs": [
    {
     "name": "stdout",
     "output_type": "stream",
     "text": [
      "Model: \"sequential_1\"\n",
      "_________________________________________________________________\n",
      " Layer (type)                Output Shape              Param #   \n",
      "=================================================================\n",
      " dense_3 (Dense)             (None, 1, 24)             1272      \n",
      "                                                                 \n",
      " dense_4 (Dense)             (None, 1, 24)             600       \n",
      "                                                                 \n",
      " dense_5 (Dense)             (None, 1, 8)              200       \n",
      "                                                                 \n",
      " flatten (Flatten)           (None, 8)                 0         \n",
      "                                                                 \n",
      "=================================================================\n",
      "Total params: 2,072\n",
      "Trainable params: 2,072\n",
      "Non-trainable params: 0\n",
      "_________________________________________________________________\n"
     ]
    }
   ],
   "source": [
    "model.summary()"
   ]
  },
  {
   "cell_type": "code",
   "execution_count": 29,
   "id": "d2872f92",
   "metadata": {},
   "outputs": [],
   "source": [
    "from rl.agents import DQNAgent\n",
    "from rl.policy import BoltzmannQPolicy\n",
    "from rl.memory import SequentialMemory"
   ]
  },
  {
   "cell_type": "code",
   "execution_count": 30,
   "id": "c7708eed",
   "metadata": {},
   "outputs": [],
   "source": [
    "def build_agent(model, actions):\n",
    "    policy = BoltzmannQPolicy()\n",
    "    memory = SequentialMemory(limit=50000, window_length=1)\n",
    "    dqn = DQNAgent(model=model, memory=memory, policy=policy, \n",
    "                  nb_actions=actions, nb_steps_warmup=10, target_model_update=1e-2)\n",
    "    return dqn"
   ]
  },
  {
   "cell_type": "code",
   "execution_count": 31,
   "id": "153d98a3",
   "metadata": {},
   "outputs": [
    {
     "name": "stdout",
     "output_type": "stream",
     "text": [
      "Training for 50000 steps ...\n",
      "Interval 1 (0 steps performed)\n",
      "\r",
      "    1/10000 [..............................] - ETA: 9:48 - reward: 58.7000"
     ]
    },
    {
     "name": "stderr",
     "output_type": "stream",
     "text": [
      "C:\\Users\\Admin\\anaconda3\\envs\\testenv\\lib\\site-packages\\keras\\engine\\training_v1.py:2079: UserWarning: `Model.state_updates` will be removed in a future version. This property should not be used in TensorFlow 2.0, as `updates` are applied automatically.\n",
      "  updates=self.state_updates,\n",
      "C:\\Users\\Admin\\anaconda3\\envs\\testenv\\lib\\site-packages\\rl\\memory.py:37: UserWarning: Not enough entries to sample without replacement. Consider increasing your warm-up phase to avoid oversampling!\n",
      "  warnings.warn('Not enough entries to sample without replacement. Consider increasing your warm-up phase to avoid oversampling!')\n"
     ]
    },
    {
     "name": "stdout",
     "output_type": "stream",
     "text": [
      "10000/10000 [==============================] - 60s 6ms/step - reward: 492.1843\n",
      "173 episodes - episode_reward: 28405.573 [3536.312, 318062.131] - loss: 30069479.001 - mae: 42902.423 - mean_q: 58029.710\n",
      "\n",
      "Interval 2 (10000 steps performed)\n",
      "10000/10000 [==============================] - 60s 6ms/step - reward: 432.6291\n",
      "178 episodes - episode_reward: 24310.452 [4370.583, 92840.645] - loss: 1655752448.000 - mae: 395079.844 - mean_q: 538033.000\n",
      "\n",
      "Interval 3 (20000 steps performed)\n",
      "10000/10000 [==============================] - 59s 6ms/step - reward: 438.1055\n",
      "174 episodes - episode_reward: 25110.002 [5382.633, 110666.414] - loss: 94816935936.000 - mae: 3126702.000 - mean_q: 4313282.500\n",
      "\n",
      "Interval 4 (30000 steps performed)\n",
      "10000/10000 [==============================] - 60s 6ms/step - reward: 421.5550\n",
      "181 episodes - episode_reward: 23346.342 [5070.422, 104245.323] - loss: 4260873371648.000 - mae: 21059136.000 - mean_q: 29167390.000\n",
      "\n",
      "Interval 5 (40000 steps performed)\n",
      "10000/10000 [==============================] - 61s 6ms/step - reward: 436.7717\n",
      "done, took 302.215 seconds\n"
     ]
    },
    {
     "data": {
      "text/plain": [
       "<keras.callbacks.History at 0x2706ce58a90>"
      ]
     },
     "execution_count": 31,
     "metadata": {},
     "output_type": "execute_result"
    }
   ],
   "source": [
    "dqn = build_agent(model, actions)\n",
    "dqn.compile(Adam(learning_rate=1e-3), metrics=['mae'])\n",
    "dqn.fit(env, nb_steps=50000, visualize=False, verbose=1)"
   ]
  },
  {
   "cell_type": "code",
   "execution_count": 32,
   "id": "a597ae3d",
   "metadata": {},
   "outputs": [
    {
     "name": "stdout",
     "output_type": "stream",
     "text": [
      "Testing for 100 episodes ...\n",
      "Episode 1: reward: 3536.312, steps: 13\n",
      "Episode 2: reward: 3536.312, steps: 13\n",
      "Episode 3: reward: 3536.312, steps: 13\n",
      "Episode 4: reward: 3536.312, steps: 13\n",
      "Episode 5: reward: 3536.312, steps: 13\n",
      "Episode 6: reward: 3536.312, steps: 13\n",
      "Episode 7: reward: 3536.312, steps: 13\n",
      "Episode 8: reward: 3536.312, steps: 13\n",
      "Episode 9: reward: 3536.312, steps: 13\n",
      "Episode 10: reward: 3536.312, steps: 13\n",
      "Episode 11: reward: 3536.312, steps: 13\n",
      "Episode 12: reward: 3536.312, steps: 13\n",
      "Episode 13: reward: 3536.312, steps: 13\n",
      "Episode 14: reward: 3536.312, steps: 13\n",
      "Episode 15: reward: 3536.312, steps: 13\n",
      "Episode 16: reward: 3536.312, steps: 13\n",
      "Episode 17: reward: 3536.312, steps: 13\n",
      "Episode 18: reward: 3536.312, steps: 13\n",
      "Episode 19: reward: 3536.312, steps: 13\n",
      "Episode 20: reward: 3536.312, steps: 13\n",
      "Episode 21: reward: 3536.312, steps: 13\n",
      "Episode 22: reward: 3536.312, steps: 13\n",
      "Episode 23: reward: 3536.312, steps: 13\n",
      "Episode 24: reward: 3536.312, steps: 13\n",
      "Episode 25: reward: 3536.312, steps: 13\n",
      "Episode 26: reward: 3536.312, steps: 13\n",
      "Episode 27: reward: 3536.312, steps: 13\n",
      "Episode 28: reward: 3536.312, steps: 13\n",
      "Episode 29: reward: 3536.312, steps: 13\n",
      "Episode 30: reward: 3536.312, steps: 13\n",
      "Episode 31: reward: 3536.312, steps: 13\n",
      "Episode 32: reward: 3536.312, steps: 13\n",
      "Episode 33: reward: 3536.312, steps: 13\n",
      "Episode 34: reward: 3536.312, steps: 13\n",
      "Episode 35: reward: 3536.312, steps: 13\n",
      "Episode 36: reward: 3536.312, steps: 13\n",
      "Episode 37: reward: 3536.312, steps: 13\n",
      "Episode 38: reward: 3536.312, steps: 13\n",
      "Episode 39: reward: 3536.312, steps: 13\n",
      "Episode 40: reward: 3536.312, steps: 13\n",
      "Episode 41: reward: 3536.312, steps: 13\n",
      "Episode 42: reward: 3536.312, steps: 13\n",
      "Episode 43: reward: 3536.312, steps: 13\n",
      "Episode 44: reward: 3536.312, steps: 13\n",
      "Episode 45: reward: 3536.312, steps: 13\n",
      "Episode 46: reward: 3536.312, steps: 13\n",
      "Episode 47: reward: 3536.312, steps: 13\n",
      "Episode 48: reward: 3536.312, steps: 13\n",
      "Episode 49: reward: 3536.312, steps: 13\n",
      "Episode 50: reward: 3536.312, steps: 13\n",
      "Episode 51: reward: 3536.312, steps: 13\n",
      "Episode 52: reward: 3536.312, steps: 13\n",
      "Episode 53: reward: 3536.312, steps: 13\n",
      "Episode 54: reward: 3536.312, steps: 13\n",
      "Episode 55: reward: 3536.312, steps: 13\n",
      "Episode 56: reward: 3536.312, steps: 13\n",
      "Episode 57: reward: 3536.312, steps: 13\n",
      "Episode 58: reward: 3536.312, steps: 13\n",
      "Episode 59: reward: 3536.312, steps: 13\n",
      "Episode 60: reward: 3536.312, steps: 13\n",
      "Episode 61: reward: 3536.312, steps: 13\n",
      "Episode 62: reward: 3536.312, steps: 13\n",
      "Episode 63: reward: 3536.312, steps: 13\n",
      "Episode 64: reward: 3536.312, steps: 13\n",
      "Episode 65: reward: 3536.312, steps: 13\n",
      "Episode 66: reward: 3536.312, steps: 13\n",
      "Episode 67: reward: 3536.312, steps: 13\n",
      "Episode 68: reward: 3536.312, steps: 13\n",
      "Episode 69: reward: 3536.312, steps: 13\n",
      "Episode 70: reward: 3536.312, steps: 13\n",
      "Episode 71: reward: 3536.312, steps: 13\n",
      "Episode 72: reward: 3536.312, steps: 13\n",
      "Episode 73: reward: 3536.312, steps: 13\n",
      "Episode 74: reward: 3536.312, steps: 13\n",
      "Episode 75: reward: 3536.312, steps: 13\n",
      "Episode 76: reward: 3536.312, steps: 13\n",
      "Episode 77: reward: 3536.312, steps: 13\n",
      "Episode 78: reward: 3536.312, steps: 13\n",
      "Episode 79: reward: 3536.312, steps: 13\n",
      "Episode 80: reward: 3536.312, steps: 13\n",
      "Episode 81: reward: 3536.312, steps: 13\n",
      "Episode 82: reward: 3536.312, steps: 13\n",
      "Episode 83: reward: 3536.312, steps: 13\n",
      "Episode 84: reward: 3536.312, steps: 13\n",
      "Episode 85: reward: 3536.312, steps: 13\n",
      "Episode 86: reward: 3536.312, steps: 13\n",
      "Episode 87: reward: 3536.312, steps: 13\n",
      "Episode 88: reward: 3536.312, steps: 13\n",
      "Episode 89: reward: 3536.312, steps: 13\n",
      "Episode 90: reward: 3536.312, steps: 13\n",
      "Episode 91: reward: 3536.312, steps: 13\n",
      "Episode 92: reward: 3536.312, steps: 13\n",
      "Episode 93: reward: 3536.312, steps: 13\n",
      "Episode 94: reward: 3536.312, steps: 13\n",
      "Episode 95: reward: 3536.312, steps: 13\n",
      "Episode 96: reward: 3536.312, steps: 13\n",
      "Episode 97: reward: 3536.312, steps: 13\n",
      "Episode 98: reward: 3536.312, steps: 13\n",
      "Episode 99: reward: 3536.312, steps: 13\n",
      "Episode 100: reward: 3536.312, steps: 13\n",
      "3536.312032273887\n"
     ]
    }
   ],
   "source": [
    "scores = dqn.test(env, nb_episodes=100, visualize=False)\n",
    "print(np.mean(scores.history['episode_reward']))"
   ]
  },
  {
   "cell_type": "code",
   "execution_count": 34,
   "id": "0dd581d1",
   "metadata": {},
   "outputs": [
    {
     "name": "stdout",
     "output_type": "stream",
     "text": [
      "Testing for 15 episodes ...\n",
      "Episode 1: reward: 3536.312, steps: 13\n",
      "Episode 2: reward: 3536.312, steps: 13\n",
      "Episode 3: reward: 3536.312, steps: 13\n",
      "Episode 4: reward: 3536.312, steps: 13\n",
      "Episode 5: reward: 3536.312, steps: 13\n",
      "Episode 6: reward: 3536.312, steps: 13\n",
      "Episode 7: reward: 3536.312, steps: 13\n",
      "Episode 8: reward: 3536.312, steps: 13\n",
      "Episode 9: reward: 3536.312, steps: 13\n",
      "Episode 10: reward: 3536.312, steps: 13\n",
      "Episode 11: reward: 3536.312, steps: 13\n",
      "Episode 12: reward: 3536.312, steps: 13\n",
      "Episode 13: reward: 3536.312, steps: 13\n",
      "Episode 14: reward: 3536.312, steps: 13\n",
      "Episode 15: reward: 3536.312, steps: 13\n"
     ]
    }
   ],
   "source": [
    "_ = dqn.test(env, nb_episodes=15, visualize=False)"
   ]
  },
  {
   "cell_type": "code",
   "execution_count": null,
   "id": "05634867",
   "metadata": {},
   "outputs": [],
   "source": []
  }
 ],
 "metadata": {
  "kernelspec": {
   "display_name": "testenv",
   "language": "python",
   "name": "testenv"
  },
  "language_info": {
   "codemirror_mode": {
    "name": "ipython",
    "version": 3
   },
   "file_extension": ".py",
   "mimetype": "text/x-python",
   "name": "python",
   "nbconvert_exporter": "python",
   "pygments_lexer": "ipython3",
   "version": "3.9.7"
  }
 },
 "nbformat": 4,
 "nbformat_minor": 5
}
